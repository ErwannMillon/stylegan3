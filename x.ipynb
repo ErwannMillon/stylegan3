{
 "cells": [
  {
   "cell_type": "code",
   "execution_count": 4,
   "metadata": {},
   "outputs": [],
   "source": [
    "import requests\n",
    "url = \"http://127.0.0.1:8000/get_img\"\n",
    "\n",
    "r  = requests.post(url, data = {'n': 1})\n"
   ]
  }
 ],
 "metadata": {
  "kernelspec": {
   "display_name": "stylegan3",
   "language": "python",
   "name": "python3"
  },
  "language_info": {
   "codemirror_mode": {
    "name": "ipython",
    "version": 3
   },
   "file_extension": ".py",
   "mimetype": "text/x-python",
   "name": "python",
   "nbconvert_exporter": "python",
   "pygments_lexer": "ipython3",
   "version": "3.9.15"
  },
  "orig_nbformat": 4,
  "vscode": {
   "interpreter": {
    "hash": "fbf09d4fd675901325036ef6fd89057d9e090bf862b7b823c50e480c27530a6f"
   }
  }
 },
 "nbformat": 4,
 "nbformat_minor": 2
}
